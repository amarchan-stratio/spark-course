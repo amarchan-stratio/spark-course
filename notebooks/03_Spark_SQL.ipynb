{
 "cells": [
  {
   "cell_type": "markdown",
   "id": "13f93ee7-8060-4ceb-9f18-e02e6d80d158",
   "metadata": {
    "tags": []
   },
   "source": [
    "# Spark SQL"
   ]
  },
  {
   "cell_type": "markdown",
   "id": "064c9cb9-27ef-4170-b848-0ed78f205197",
   "metadata": {},
   "source": [
    "## 1. Introduction to DataFrames and Datasets"
   ]
  },
  {
   "cell_type": "markdown",
   "id": "17babb4b-e1e1-44f7-93c1-c0d6d32358c7",
   "metadata": {},
   "source": [
    "### Difference between RDDs, DataFrames and DataSets."
   ]
  },
  {
   "cell_type": "markdown",
   "id": "fa40c0da-46e4-499a-ad27-763cf678eb02",
   "metadata": {},
   "source": [
    "**RDDs (2011)**:\n",
    "- Distribute collection of Java Virtual Machine (JVM) objects\n",
    "- Functional Operators (map, reduce, filter, etc)\n",
    "\n",
    "**DataFrame (2013)**:\n",
    "- Distributed collection of Row objects\n",
    "- Expression based operations and User Defined Functions (UDFs)\n",
    "- Logical plans and optimizer\n",
    "- Fast/efficient internal representations\n",
    "\n",
    "**DataSet (2015)**:\n",
    "- Internally Rows, externally JVM objects\n",
    "- Almost the \"Best of both worlds\": type safe + fast\n",
    "- Slower than DataFrame, not as good for interactive analysis, especially Python"
   ]
  },
  {
   "cell_type": "markdown",
   "id": "4fa75e74-eca4-4b05-a43d-e13af7b83f2b",
   "metadata": {},
   "source": [
    "## 2. DataFrames"
   ]
  },
  {
   "cell_type": "markdown",
   "id": "25dba8a0-db60-44cd-8204-d65d0c5ee4f2",
   "metadata": {
    "tags": []
   },
   "source": [
    "<img src=\"images/dataframe_concept.png\" title=\"DataFrame Concept\" width=\"700px\"/>"
   ]
  },
  {
   "cell_type": "markdown",
   "id": "3149a7bd-1a73-41cb-bbeb-e5e596b0ac52",
   "metadata": {
    "jp-MarkdownHeadingCollapsed": true,
    "tags": []
   },
   "source": [
    "### Basic concepts\n",
    "- Distributed collection of Row objects. These objects contain the schema within the data.\n",
    "- Data is organized into columns like a relational database.\n",
    "\n",
    "The main features of Dataframes are:\n",
    "- **Catalyst**: powers the Dataframe and SQL APIs.\n",
    "    1. Analyzing a logical plan to resolve references\n",
    "    2. Logical plan optimization\n",
    "    3. Physical planning\n",
    "    4. Code generation to compile parts of the query to Java bytecode.\n",
    "- **Tungsten**: provides a physical execution backend which explicitly manages memory and dynamically generates bytecode for expression evaluation.\n"
   ]
  },
  {
   "cell_type": "markdown",
   "id": "1602556d-7ceb-4be7-84f6-356fa02afc53",
   "metadata": {},
   "source": [
    "### Creating DataFrames"
   ]
  },
  {
   "cell_type": "markdown",
   "id": "c776470e-34f8-4121-a3ef-2be9623b5f57",
   "metadata": {},
   "source": [
    "DataFrames can be created from many different sources such as existing RDDs, structured and unstructured data files (CSV, JSON, Parquet), databases using JDBC, etc."
   ]
  },
  {
   "cell_type": "code",
   "execution_count": 1,
   "id": "2632fb91-78c9-4d91-ba84-bbd8dbcfd56a",
   "metadata": {
    "tags": []
   },
   "outputs": [
    {
     "name": "stderr",
     "output_type": "stream",
     "text": [
      "Using Spark's default log4j profile: org/apache/spark/log4j-defaults.properties\n",
      "Setting default log level to \"WARN\".\n",
      "To adjust logging level use sc.setLogLevel(newLevel). For SparkR, use setLogLevel(newLevel).\n",
      "23/09/15 14:03:47 WARN NativeCodeLoader: Unable to load native-hadoop library for your platform... using builtin-java classes where applicable\n",
      "23/09/15 14:03:48 WARN Utils: Service 'SparkUI' could not bind on port 4040. Attempting port 4041.\n",
      "                                                                                \r"
     ]
    },
    {
     "name": "stdout",
     "output_type": "stream",
     "text": [
      "DataFrame from RDD.toDF() function\n",
      "+---+\n",
      "| _1|\n",
      "+---+\n",
      "|  0|\n",
      "|  1|\n",
      "|  2|\n",
      "|  3|\n",
      "|  4|\n",
      "|  5|\n",
      "+---+\n",
      "\n",
      "DataFrame from RDD with saprk.createDataFrame()\n",
      "+-----+\n",
      "|value|\n",
      "+-----+\n",
      "|    0|\n",
      "|    1|\n",
      "|    2|\n",
      "|    3|\n",
      "|    4|\n",
      "|    5|\n",
      "+-----+\n",
      "\n",
      "DataFrame from a Python collection\n",
      "+---------+-------+-----+\n",
      "|    brand|   name|price|\n",
      "+---------+-------+-----+\n",
      "|   Toyota|  Camry|24000|\n",
      "|    Honda|  Civic|22000|\n",
      "|     Ford|Mustang|27000|\n",
      "|    Tesla|Model 3|35000|\n",
      "|Chevrolet| Malibu|23000|\n",
      "+---------+-------+-----+\n",
      "\n",
      "DataFrame from a JSON file\n",
      "+--------------------+---+--------------------+-----+--------+-----------------+\n",
      "|                 _id|age|               email|grade|    name|          surname|\n",
      "+--------------------+---+--------------------+-----+--------+-----------------+\n",
      "|33a624e7-e6f1-40b...| 23|Valeria.Sebastian...| 7.56| Valeria| Sebastian Garcia|\n",
      "|2cd47675-43f3-415...| 23|Sanchez.Abascal@g...| 8.16|    Emma|  Sanchez Abascal|\n",
      "|594ea4e7-75e3-456...| 20|Sarabia.Lopez@gma...| 8.22| Agustin|    Sarabia Lopez|\n",
      "|3b521244-d2d4-40b...| 25|MartinaySebastian...| 7.67| Martina|Corominas Sarabia|\n",
      "|e6f52130-362f-4a5...| 19|DavidyValeria@gma...| 7.45|   David|   Miranda Grande|\n",
      "|cee04454-f6ea-48b...| 20|Lopez.Bernal@outl...| 7.35|    Laia|     Lopez Bernal|\n",
      "|6e5b75cd-0d5f-41f...| 22|MarcosySantiago@h...|  6.8|  Marcos|     Garcia Aznar|\n",
      "|47435195-80b1-473...| 18|Judith.Garcia@gma...|  9.1|  Judith|      Garcia Cruz|\n",
      "|fbdf66dc-49da-467...| 21| IkerySara@gmail.com| 7.77|    Iker|    Seco Coronado|\n",
      "|0df69140-84ac-47d...| 22|Lopez.Sastre@hotm...|  7.9|   Pablo|     Lopez Sastre|\n",
      "|dbd1026a-b18f-450...| 19|Marcos1997@gmail.com|  7.8|  Marcos|  Sarabia Gisbert|\n",
      "|ee2568cb-93f8-44c...| 24|  Oriol1992@yahoo.es| 7.39|   Oriol|   Blanes Miranda|\n",
      "|2f5239a1-05c0-454...| 18|Marcos.Cuenca@yah...|  9.8|  Marcos|     Cuenca Lopez|\n",
      "|40191301-f2b6-4aa...| 23|Sandra.Sastre@gma...|  8.3|  Sandra| Sastre Corominas|\n",
      "|eac69540-3a1d-4a3...| 22|LuciayTomas@outlo...| 8.69|   Lucia|      Agudo Lopez|\n",
      "|1f58ebe4-9fc5-429...| 29|MarcosyMario@gmai...|  8.8|  Marcos|   Garcia Sanchez|\n",
      "|54d4a8d3-4cc1-4dc...| 24|EmmayJose@hotmail.es| 9.25|    Emma|     Cruz Antunez|\n",
      "|33f54c17-2a1b-421...| 21|Santander.Pascual...| 5.79|   Pedro|Santander Pascual|\n",
      "|971deb27-156d-4cd...| 21|Aznar.Pascual@idx...|  8.6|Santiago|    Aznar Pascual|\n",
      "|cb1244e2-63cf-4a7...| 20|Juan.Parada@gmail...|  8.3|    Juan|   Parada Pascual|\n",
      "+--------------------+---+--------------------+-----+--------+-----------------+\n",
      "only showing top 20 rows\n",
      "\n"
     ]
    }
   ],
   "source": [
    "from pyspark.sql import SparkSession\n",
    "from pyspark.sql.types import Row, IntegerType\n",
    "\n",
    "# Initialize Spark session\n",
    "spark = SparkSession.builder.appName(\"SparkSQL\").getOrCreate()\n",
    "\n",
    "# Creating DataFrame from an existing RDD\n",
    "rdd = spark.sparkContext.parallelize([0, 1, 2, 3, 4, 5])\n",
    "df = rdd.map(lambda x: Row(x)).toDF()\n",
    "print(\"DataFrame from RDD.toDF() function\")\n",
    "df.show()\n",
    "schema = IntegerType()\n",
    "df = spark.createDataFrame(rdd, schema)\n",
    "print(\"DataFrame from RDD with saprk.createDataFrame()\")\n",
    "df.show()\n",
    "\n",
    "# Creating a DataFrame from a Python collection\n",
    "cars = [\n",
    "    {\"brand\": \"Toyota\", \"name\": \"Camry\", \"price\": 24000},\n",
    "    {\"brand\": \"Honda\", \"name\": \"Civic\", \"price\": 22000},\n",
    "    {\"brand\": \"Ford\", \"name\": \"Mustang\", \"price\": 27000},\n",
    "    {\"brand\": \"Tesla\", \"name\": \"Model 3\", \"price\": 35000},\n",
    "    {\"brand\": \"Chevrolet\", \"name\": \"Malibu\", \"price\": 23000}\n",
    "]\n",
    "df = spark.createDataFrame(cars)\n",
    "print(\"DataFrame from a Python collection\")\n",
    "df.show()\n",
    "\n",
    "# Creating a DataFrame from a JSON file\n",
    "df = spark.read.json('datasets/students.json')\n",
    "print(\"DataFrame from a JSON file\")\n",
    "df.show()"
   ]
  },
  {
   "cell_type": "markdown",
   "id": "8be53ba4-5878-4818-93fd-ad3807a3314c",
   "metadata": {},
   "source": [
    "## 3. Running SQL Queries using Spark SQL"
   ]
  },
  {
   "cell_type": "markdown",
   "id": "dc57b4d2-3a3e-44bc-a9b7-5fba3a11a7cd",
   "metadata": {},
   "source": [
    "In Spark you can work with DataFrames using the built-in functions or the Spark SQL API that provides a syntax similar to standard SQL but includes many extra ones that can be found [here](https://spark.apache.org/docs/latest/api/sql/index.html) (I recommend you to add this page to your bookmarks!). \n",
    "\n",
    "`NOTE`: Depending on the Spark version you are using this functions may change, you can find all the available Spark Docs for the different versions [here](https://spark.apache.org/docs/). To check you Spark version print your Spark Session."
   ]
  },
  {
   "cell_type": "code",
   "execution_count": null,
   "id": "33320345-9215-4d27-8d7a-70e8d8569528",
   "metadata": {
    "tags": []
   },
   "outputs": [],
   "source": [
    "spark"
   ]
  },
  {
   "cell_type": "code",
   "execution_count": null,
   "id": "7ca7eb6f-fd26-4199-b9ab-cf1a5972e2fc",
   "metadata": {},
   "outputs": [],
   "source": [
    "# First, lets check the schema of the df we will work with\n",
    "df.printSchema()"
   ]
  },
  {
   "cell_type": "markdown",
   "id": "33e25a71-ec0d-4c57-aa3b-e0e7211ac0a9",
   "metadata": {},
   "source": [
    "### Reading the top 10 lines"
   ]
  },
  {
   "cell_type": "markdown",
   "id": "fa26b472-6e6c-4a0b-b9a9-a8ef30258e97",
   "metadata": {},
   "source": [
    "#### DataFrame mode"
   ]
  },
  {
   "cell_type": "code",
   "execution_count": null,
   "id": "177c2f98-6747-4353-879c-53d96d86aa23",
   "metadata": {
    "tags": []
   },
   "outputs": [],
   "source": []
  },
  {
   "cell_type": "markdown",
   "id": "5ee52600-6114-4d8e-97f4-cab1a8124436",
   "metadata": {
    "tags": []
   },
   "source": [
    "#### SQL mode"
   ]
  },
  {
   "cell_type": "code",
   "execution_count": 3,
   "id": "e724aafb-51af-4c8c-9912-f8fdbc98d554",
   "metadata": {},
   "outputs": [],
   "source": [
    "df.createOrReplaceTempView('students')"
   ]
  },
  {
   "cell_type": "code",
   "execution_count": null,
   "id": "8d654870-f1a8-4c27-af43-1de5965c877e",
   "metadata": {},
   "outputs": [],
   "source": []
  },
  {
   "cell_type": "markdown",
   "id": "61ca4b23-7867-48d0-9783-35f075193a53",
   "metadata": {},
   "source": [
    "### Understanding the Pyshical and Logical plans"
   ]
  },
  {
   "cell_type": "markdown",
   "id": "6a8b3137-0e1a-4ca5-9b58-1efca6405302",
   "metadata": {},
   "source": [
    "As previously stated, the **Catalyst** is in charge of creating an optimizing the plan that will be converted into a DAG and sent to the executors. The following diagram shows the steps that the Catalyst performs to produce an execution plan\n",
    "\n",
    "<img src=\"images/catalyst_steps.webp\" title=\"Catalyst Steps Diagram\" width=\"700px\"/>\n",
    "\n",
    "In order to see the plan generated by the **Catalyst** you can call the function `explain()` which, by default, will display the Physical Plan."
   ]
  },
  {
   "cell_type": "code",
   "execution_count": null,
   "id": "ec9080e7-f7ca-4c5d-ac29-52544716d5ec",
   "metadata": {},
   "outputs": [],
   "source": []
  },
  {
   "cell_type": "markdown",
   "id": "c94db648-908f-4942-82db-3337a85eb32e",
   "metadata": {},
   "source": [
    "#### Getting various plans\n",
    "Before Apache Spark 3.0, there was only two modes available to format explain output.\n",
    "\n",
    "- `explain(extended=False)` which displayed only the physical plan\n",
    "- `explain(extended=True)` which displayed all the plans (logical and physical)"
   ]
  },
  {
   "cell_type": "code",
   "execution_count": null,
   "id": "be28fc24-866e-4205-90e9-e8b9d85e2325",
   "metadata": {},
   "outputs": [],
   "source": []
  },
  {
   "cell_type": "markdown",
   "id": "f189dd2e-ad27-45b6-967f-0d94ff4ef0eb",
   "metadata": {},
   "source": [
    "Starting from Apache Spark 3.0, you have a new parameter “mode” that produce expected format for the plan:\n",
    "\n",
    "- `explain(mode=\"simple\")` which will display the physical plan\n",
    "- `explain(mode=\"extended\")` which will display physical and logical plans (like \"extended\" option)\n",
    "- `explain(mode=\"codegen\")` which will display the java code planned to be executed\n",
    "- `explain(mode=\"cost\")` which will display the optimized logical plan and related statistics (if they exist)\n",
    "- `explain(mode=\"formatted\")` which will display a splitted output composed by a nice physical plan outline, and a section with each node details"
   ]
  },
  {
   "cell_type": "code",
   "execution_count": null,
   "id": "487acccb-d035-414b-a687-73e37a5fa8a9",
   "metadata": {},
   "outputs": [],
   "source": []
  },
  {
   "cell_type": "markdown",
   "id": "1aa4a18e-a31e-431a-82a3-a3f330e61941",
   "metadata": {
    "tags": []
   },
   "source": [
    "### Top 5 students with higher grades"
   ]
  },
  {
   "cell_type": "markdown",
   "id": "4a197fab-f130-492c-b6dc-afdff282221f",
   "metadata": {
    "tags": []
   },
   "source": [
    "#### DataFrame mode"
   ]
  },
  {
   "cell_type": "code",
   "execution_count": null,
   "id": "19b8d32d-dfc3-428f-a292-a1d86116782c",
   "metadata": {
    "tags": []
   },
   "outputs": [],
   "source": []
  },
  {
   "cell_type": "markdown",
   "id": "7decc916-e4d7-4281-a8ed-ff9e5f4dc50f",
   "metadata": {
    "tags": []
   },
   "source": [
    "#### SQL mode"
   ]
  },
  {
   "cell_type": "code",
   "execution_count": null,
   "id": "dbc009d5-4936-4fe7-953d-7865357e95f1",
   "metadata": {},
   "outputs": [],
   "source": []
  },
  {
   "cell_type": "markdown",
   "id": "9687683b-9307-44e1-b249-e85ccece6611",
   "metadata": {},
   "source": [
    "### Max and Mean grade"
   ]
  },
  {
   "cell_type": "markdown",
   "id": "16416cee-2fe0-42f6-946f-594822dfc9cd",
   "metadata": {
    "tags": []
   },
   "source": [
    "#### DataFrame mode"
   ]
  },
  {
   "cell_type": "code",
   "execution_count": null,
   "id": "b3e2143c-5c3e-49ae-9da5-3ecb671fdc30",
   "metadata": {
    "tags": []
   },
   "outputs": [],
   "source": []
  },
  {
   "cell_type": "markdown",
   "id": "7a2714d0-12ae-4d8c-a309-6d46a25d84e1",
   "metadata": {
    "tags": []
   },
   "source": [
    "#### SQL mode"
   ]
  },
  {
   "cell_type": "code",
   "execution_count": null,
   "id": "1764dc5a-4294-41a4-8eed-dfa20f74ffc3",
   "metadata": {},
   "outputs": [],
   "source": []
  },
  {
   "cell_type": "markdown",
   "id": "1d91a387-ebc6-44f8-bfd4-e64c0c09352e",
   "metadata": {},
   "source": [
    "### Top 5 students with highest mean grade"
   ]
  },
  {
   "cell_type": "markdown",
   "id": "2810febf-15b6-4b7b-93f5-d2706383f8d0",
   "metadata": {
    "tags": []
   },
   "source": [
    "#### DataFrame mode"
   ]
  },
  {
   "cell_type": "code",
   "execution_count": null,
   "id": "6a5d041a-f608-4cf0-9b3c-67014b64c0b5",
   "metadata": {
    "tags": []
   },
   "outputs": [],
   "source": []
  },
  {
   "cell_type": "markdown",
   "id": "21f62933-8d60-4889-883f-efb6747a5962",
   "metadata": {
    "tags": []
   },
   "source": [
    "#### SQL mode"
   ]
  },
  {
   "cell_type": "code",
   "execution_count": null,
   "id": "6ddcfad9-57c0-437e-8436-146031d22d20",
   "metadata": {},
   "outputs": [],
   "source": []
  },
  {
   "cell_type": "markdown",
   "id": "c68bf89a-186a-4c52-8314-f1883c7ab36b",
   "metadata": {},
   "source": [
    "### Average grade per student age"
   ]
  },
  {
   "cell_type": "markdown",
   "id": "f1d0443a-6d13-4e80-a9f1-39709223429c",
   "metadata": {
    "tags": []
   },
   "source": [
    "#### DataFrame mode"
   ]
  },
  {
   "cell_type": "code",
   "execution_count": null,
   "id": "14170333-adaa-480f-8113-75ee80b95123",
   "metadata": {
    "tags": []
   },
   "outputs": [],
   "source": []
  },
  {
   "cell_type": "markdown",
   "id": "7758d3cf-8e0c-46e9-9cf9-724cb47e3397",
   "metadata": {
    "tags": []
   },
   "source": [
    "#### SQL mode"
   ]
  },
  {
   "cell_type": "code",
   "execution_count": null,
   "id": "3024835e-d24d-4897-9f85-5a35a9a1942b",
   "metadata": {},
   "outputs": [],
   "source": []
  },
  {
   "cell_type": "markdown",
   "id": "f4ca37c1-9301-41e0-9ba5-60aaccd42624",
   "metadata": {},
   "source": [
    "### Add column `excelent` to indicate that a student has a grade over 9.5"
   ]
  },
  {
   "cell_type": "markdown",
   "id": "fab9c56a-9564-49d6-8607-1e49da312a70",
   "metadata": {
    "tags": []
   },
   "source": [
    "#### DataFrame mode"
   ]
  },
  {
   "cell_type": "code",
   "execution_count": 19,
   "id": "52b350e3-fa38-4a0c-847d-72b72418c5d6",
   "metadata": {
    "tags": []
   },
   "outputs": [
    {
     "name": "stdout",
     "output_type": "stream",
     "text": [
      "+--------------------+---+--------------------+-----+--------+-----------------+--------+\n",
      "|                 _id|age|               email|grade|    name|          surname|excelent|\n",
      "+--------------------+---+--------------------+-----+--------+-----------------+--------+\n",
      "|33a624e7-e6f1-40b...| 23|Valeria.Sebastian...| 7.56| Valeria| Sebastian Garcia|      NO|\n",
      "|2cd47675-43f3-415...| 23|Sanchez.Abascal@g...| 8.16|    Emma|  Sanchez Abascal|      NO|\n",
      "|594ea4e7-75e3-456...| 20|Sarabia.Lopez@gma...| 8.22| Agustin|    Sarabia Lopez|      NO|\n",
      "|3b521244-d2d4-40b...| 25|MartinaySebastian...| 7.67| Martina|Corominas Sarabia|      NO|\n",
      "|e6f52130-362f-4a5...| 19|DavidyValeria@gma...| 7.45|   David|   Miranda Grande|      NO|\n",
      "|cee04454-f6ea-48b...| 20|Lopez.Bernal@outl...| 7.35|    Laia|     Lopez Bernal|      NO|\n",
      "|6e5b75cd-0d5f-41f...| 22|MarcosySantiago@h...|  6.8|  Marcos|     Garcia Aznar|      NO|\n",
      "|47435195-80b1-473...| 18|Judith.Garcia@gma...|  9.1|  Judith|      Garcia Cruz|      NO|\n",
      "|fbdf66dc-49da-467...| 21| IkerySara@gmail.com| 7.77|    Iker|    Seco Coronado|      NO|\n",
      "|0df69140-84ac-47d...| 22|Lopez.Sastre@hotm...|  7.9|   Pablo|     Lopez Sastre|      NO|\n",
      "|dbd1026a-b18f-450...| 19|Marcos1997@gmail.com|  7.8|  Marcos|  Sarabia Gisbert|      NO|\n",
      "|ee2568cb-93f8-44c...| 24|  Oriol1992@yahoo.es| 7.39|   Oriol|   Blanes Miranda|      NO|\n",
      "|2f5239a1-05c0-454...| 18|Marcos.Cuenca@yah...|  9.8|  Marcos|     Cuenca Lopez|     YES|\n",
      "|40191301-f2b6-4aa...| 23|Sandra.Sastre@gma...|  8.3|  Sandra| Sastre Corominas|      NO|\n",
      "|eac69540-3a1d-4a3...| 22|LuciayTomas@outlo...| 8.69|   Lucia|      Agudo Lopez|      NO|\n",
      "|1f58ebe4-9fc5-429...| 29|MarcosyMario@gmai...|  8.8|  Marcos|   Garcia Sanchez|      NO|\n",
      "|54d4a8d3-4cc1-4dc...| 24|EmmayJose@hotmail.es| 9.25|    Emma|     Cruz Antunez|      NO|\n",
      "|33f54c17-2a1b-421...| 21|Santander.Pascual...| 5.79|   Pedro|Santander Pascual|      NO|\n",
      "|971deb27-156d-4cd...| 21|Aznar.Pascual@idx...|  8.6|Santiago|    Aznar Pascual|      NO|\n",
      "|cb1244e2-63cf-4a7...| 20|Juan.Parada@gmail...|  8.3|    Juan|   Parada Pascual|      NO|\n",
      "+--------------------+---+--------------------+-----+--------+-----------------+--------+\n",
      "only showing top 20 rows\n",
      "\n"
     ]
    }
   ],
   "source": [
    "from pyspark.sql.functions import when, col\n",
    "\n",
    "df.withColumn('excelent', \n",
    "      when(\n",
    "          col('grade') > 9.5, \n",
    "          'YES'\n",
    "      ).otherwise('NO')\n",
    "    ).show()"
   ]
  },
  {
   "cell_type": "markdown",
   "id": "f31b22fe-a23c-4da3-acf3-2eb9cce7a2ad",
   "metadata": {
    "tags": []
   },
   "source": [
    "#### SQL mode"
   ]
  },
  {
   "cell_type": "code",
   "execution_count": 20,
   "id": "50dfa5b6-0d51-4564-87d9-78bcdfd1fd00",
   "metadata": {},
   "outputs": [],
   "source": [
    "new_df = spark.sql(\"\"\"\n",
    "SELECT\n",
    "    *,\n",
    "    CASE\n",
    "        WHEN grade > 9.5 THEN 'YES'\n",
    "        ELSE 'NO'\n",
    "    END AS excellent\n",
    "FROM\n",
    "    students\n",
    "\"\"\")"
   ]
  },
  {
   "cell_type": "code",
   "execution_count": 22,
   "id": "5e1d689a-14ab-458b-ad9f-c787b4f2b050",
   "metadata": {
    "tags": []
   },
   "outputs": [],
   "source": [
    "from pyspark.sql.functions import count"
   ]
  },
  {
   "cell_type": "code",
   "execution_count": 25,
   "id": "719bd95e-dab5-4d52-a746-d48cfc8313cd",
   "metadata": {
    "tags": []
   },
   "outputs": [
    {
     "name": "stdout",
     "output_type": "stream",
     "text": [
      "+---------+-----------+\n",
      "|excellent|n_excellent|\n",
      "+---------+-----------+\n",
      "|      YES|        435|\n",
      "|       NO|       9565|\n",
      "+---------+-----------+\n",
      "\n"
     ]
    }
   ],
   "source": [
    "new_df.groupBy('excellent') \\\n",
    "    .agg(count('*').alias('n_excellent')) \\\n",
    "    .show()"
   ]
  },
  {
   "cell_type": "code",
   "execution_count": 26,
   "id": "d18ba5da-83bf-45f5-9c4d-97cc7dca3d6f",
   "metadata": {
    "tags": []
   },
   "outputs": [],
   "source": [
    "new_df.createOrReplaceTempView('temp')"
   ]
  },
  {
   "cell_type": "code",
   "execution_count": 34,
   "id": "945e4c97-837d-4fc2-a6d1-7feb8e97dc06",
   "metadata": {
    "tags": []
   },
   "outputs": [],
   "source": [
    "res_df = spark.sql(\"\"\"\n",
    "SELECT\n",
    "    excellent,\n",
    "    count(*) as n_excellent\n",
    "FROM\n",
    "    temp\n",
    "GROUP BY\n",
    "    excellent\n",
    "\"\"\")"
   ]
  },
  {
   "cell_type": "code",
   "execution_count": 35,
   "id": "b6601374-44cd-4de0-a2a5-ee6d491e5973",
   "metadata": {
    "tags": []
   },
   "outputs": [
    {
     "name": "stdout",
     "output_type": "stream",
     "text": [
      "+---------+-----------+\n",
      "|excellent|n_excellent|\n",
      "+---------+-----------+\n",
      "|      YES|        435|\n",
      "|       NO|       9565|\n",
      "+---------+-----------+\n",
      "\n"
     ]
    }
   ],
   "source": [
    "res_df.show()"
   ]
  },
  {
   "cell_type": "code",
   "execution_count": 36,
   "id": "9b08ac33-333b-45ba-a7c2-6aebf29e01f9",
   "metadata": {
    "tags": []
   },
   "outputs": [],
   "source": [
    "res_df.write.csv('datasets/new_dataset')"
   ]
  },
  {
   "cell_type": "code",
   "execution_count": 37,
   "id": "912f1e92-7abd-4035-be2b-5d609a1f34ff",
   "metadata": {
    "tags": []
   },
   "outputs": [
    {
     "name": "stdout",
     "output_type": "stream",
     "text": [
      "+--------------------+---+--------------------+-----+--------+-----------------+---------+\n",
      "|                 _id|age|               email|grade|    name|          surname|excellent|\n",
      "+--------------------+---+--------------------+-----+--------+-----------------+---------+\n",
      "|33a624e7-e6f1-40b...| 23|Valeria.Sebastian...| 7.56| Valeria| Sebastian Garcia|       NO|\n",
      "|2cd47675-43f3-415...| 23|Sanchez.Abascal@g...| 8.16|    Emma|  Sanchez Abascal|       NO|\n",
      "|594ea4e7-75e3-456...| 20|Sarabia.Lopez@gma...| 8.22| Agustin|    Sarabia Lopez|       NO|\n",
      "|3b521244-d2d4-40b...| 25|MartinaySebastian...| 7.67| Martina|Corominas Sarabia|       NO|\n",
      "|e6f52130-362f-4a5...| 19|DavidyValeria@gma...| 7.45|   David|   Miranda Grande|       NO|\n",
      "|cee04454-f6ea-48b...| 20|Lopez.Bernal@outl...| 7.35|    Laia|     Lopez Bernal|       NO|\n",
      "|6e5b75cd-0d5f-41f...| 22|MarcosySantiago@h...|  6.8|  Marcos|     Garcia Aznar|       NO|\n",
      "|47435195-80b1-473...| 18|Judith.Garcia@gma...|  9.1|  Judith|      Garcia Cruz|       NO|\n",
      "|fbdf66dc-49da-467...| 21| IkerySara@gmail.com| 7.77|    Iker|    Seco Coronado|       NO|\n",
      "|0df69140-84ac-47d...| 22|Lopez.Sastre@hotm...|  7.9|   Pablo|     Lopez Sastre|       NO|\n",
      "|dbd1026a-b18f-450...| 19|Marcos1997@gmail.com|  7.8|  Marcos|  Sarabia Gisbert|       NO|\n",
      "|ee2568cb-93f8-44c...| 24|  Oriol1992@yahoo.es| 7.39|   Oriol|   Blanes Miranda|       NO|\n",
      "|2f5239a1-05c0-454...| 18|Marcos.Cuenca@yah...|  9.8|  Marcos|     Cuenca Lopez|      YES|\n",
      "|40191301-f2b6-4aa...| 23|Sandra.Sastre@gma...|  8.3|  Sandra| Sastre Corominas|       NO|\n",
      "|eac69540-3a1d-4a3...| 22|LuciayTomas@outlo...| 8.69|   Lucia|      Agudo Lopez|       NO|\n",
      "|1f58ebe4-9fc5-429...| 29|MarcosyMario@gmai...|  8.8|  Marcos|   Garcia Sanchez|       NO|\n",
      "|54d4a8d3-4cc1-4dc...| 24|EmmayJose@hotmail.es| 9.25|    Emma|     Cruz Antunez|       NO|\n",
      "|33f54c17-2a1b-421...| 21|Santander.Pascual...| 5.79|   Pedro|Santander Pascual|       NO|\n",
      "|971deb27-156d-4cd...| 21|Aznar.Pascual@idx...|  8.6|Santiago|    Aznar Pascual|       NO|\n",
      "|cb1244e2-63cf-4a7...| 20|Juan.Parada@gmail...|  8.3|    Juan|   Parada Pascual|       NO|\n",
      "+--------------------+---+--------------------+-----+--------+-----------------+---------+\n",
      "only showing top 20 rows\n",
      "\n"
     ]
    }
   ],
   "source": [
    "new_df.show()"
   ]
  },
  {
   "cell_type": "code",
   "execution_count": 41,
   "id": "742f3cb5-1546-4cc2-a8c0-936172bb3e1a",
   "metadata": {
    "tags": []
   },
   "outputs": [
    {
     "name": "stderr",
     "output_type": "stream",
     "text": [
      "                                                                                \r"
     ]
    }
   ],
   "source": [
    "new_df.repartition(4).write.mode('overwrite').parquet('datasets/new_df')"
   ]
  },
  {
   "cell_type": "markdown",
   "id": "f5edddc7-3990-4856-81bb-6f7baea617d1",
   "metadata": {},
   "source": [
    "## 4. Spark SQL Joins"
   ]
  },
  {
   "cell_type": "markdown",
   "id": "71aeb6b6-d5d7-42b0-97cb-73c39cb4b496",
   "metadata": {},
   "source": [
    "Spark DataFrame supports all basic SQL Join Types like `INNER`, `LEFT OUTER`, `RIGHT OUTER`, `LEFT ANTI`, `LEFT SEMI`, `CROSS`, `FULL OUTER`, etc. Spark SQL Joins are wide transformations that result in data shuffling over the network hence they have huge performance issues when not designed with care.\n",
    "\n",
    "On the other hand Spark SQL Joins comes with more optimization by default (thanks to DataFrames & Dataset) however still there would be some performance issues to consider while using them."
   ]
  },
  {
   "cell_type": "markdown",
   "id": "a1388506-e203-49cd-ab5a-81fd88dc2d9d",
   "metadata": {},
   "source": [
    "### Most common types of Joins\n",
    "\n",
    "<img src=\"images/joins.jpg\" title=\"Types of Joins\" width=\"700px\"/>"
   ]
  },
  {
   "cell_type": "markdown",
   "id": "4c79a759-6e25-469a-b5f9-951959e7601d",
   "metadata": {},
   "source": [
    "### How to perform a Join in Spark (cheat sheet)\n",
    "\n",
    "1. Referencing columns with different names in each df:\n",
    "\n",
    "```python\n",
    "dfA.join(dfB, dfA[\"idA\"] == dfB[\"idB\"], \"type-of-join\")\n",
    "\n",
    "```\n",
    "\n",
    "2. Key column has the same alias\n",
    "\n",
    "```python\n",
    "dfA.join(dfB, on=\"id\", how=\"type-of-join\")\n",
    "\n",
    "```\n",
    "\n",
    "3. More than one key column\n",
    "\n",
    "```python\n",
    "dfA.join(dfB, [\"id\", \"code\"], \"type-of-join\")\n",
    "\n",
    "dfA.join(dfB, (dfA[\"id\"] == dfB[\"id\"]) & (dfA[\"code\"] == dfB[\"code\"]), \"type-of-join\")\n",
    "\n",
    "```\n",
    "\n",
    "4. Maintaining both columns (be careful and be sure of referencing the origin of the column when using it after this)\n",
    "\n",
    "```python\n",
    "dfC = dfA.join(dfB, dfA[\"id\"] == dfB[\"id\"], \"type-of-join\")\n",
    "\n",
    "dfC.select(dfA[\"id\"]).show()\n",
    "```"
   ]
  },
  {
   "cell_type": "markdown",
   "id": "afd9c5ad-43ee-492a-9eb8-dee1f6ed56ee",
   "metadata": {},
   "source": [
    "### Read the example data"
   ]
  },
  {
   "cell_type": "code",
   "execution_count": 42,
   "id": "5daaf593-e0c0-4332-a47e-41514847ac8e",
   "metadata": {},
   "outputs": [
    {
     "name": "stdout",
     "output_type": "stream",
     "text": [
      "+-----------+------+------+--------+------+---------------+-----------+\n",
      "|emp_dept_id|emp_id|gender|    name|salary|superior_emp_id|year_joined|\n",
      "+-----------+------+------+--------+------+---------------+-----------+\n",
      "|         10|     1|     M|   Smith|  3000|             -1|       2018|\n",
      "|         20|     2|     M|    Rose|  4000|              1|       2010|\n",
      "|         10|     4|     F|   Jones|  2000|              2|       2005|\n",
      "|         10|     3|     M|Williams|  1000|              1|       2010|\n",
      "|         50|     6|      |   Brown|    -1|              2|       2010|\n",
      "|         40|     5|      |   Brown|    -1|              2|       2010|\n",
      "+-----------+------+------+--------+------+---------------+-----------+\n",
      "\n"
     ]
    }
   ],
   "source": [
    "df_emp = spark.read.json(\"datasets/employees.json\")\n",
    "df_emp.show()"
   ]
  },
  {
   "cell_type": "code",
   "execution_count": 43,
   "id": "3adacfc8-e829-4052-9770-41ec7fd9dfd8",
   "metadata": {},
   "outputs": [
    {
     "name": "stdout",
     "output_type": "stream",
     "text": [
      "+-------+---------+\n",
      "|dept_id|dept_name|\n",
      "+-------+---------+\n",
      "|     10|  Finance|\n",
      "|     20|Marketing|\n",
      "|     30|    Sales|\n",
      "|     40|       IT|\n",
      "+-------+---------+\n",
      "\n"
     ]
    }
   ],
   "source": [
    "df_dept = spark.read.json(\"datasets/departments.json\")\n",
    "df_dept.show()"
   ]
  },
  {
   "cell_type": "markdown",
   "id": "d4e03c03-683f-478b-84a7-c7d0179f70d0",
   "metadata": {},
   "source": [
    "### Inner Join"
   ]
  },
  {
   "cell_type": "code",
   "execution_count": 45,
   "id": "b97e7753-a993-411f-bfa8-c896dec9d28e",
   "metadata": {},
   "outputs": [
    {
     "name": "stdout",
     "output_type": "stream",
     "text": [
      "+-----------+------+------+--------+------+---------------+-----------+-------+---------+\n",
      "|emp_dept_id|emp_id|gender|    name|salary|superior_emp_id|year_joined|dept_id|dept_name|\n",
      "+-----------+------+------+--------+------+---------------+-----------+-------+---------+\n",
      "|         10|     1|     M|   Smith|  3000|             -1|       2018|     10|  Finance|\n",
      "|         20|     2|     M|    Rose|  4000|              1|       2010|     20|Marketing|\n",
      "|         10|     4|     F|   Jones|  2000|              2|       2005|     10|  Finance|\n",
      "|         10|     3|     M|Williams|  1000|              1|       2010|     10|  Finance|\n",
      "|         40|     5|      |   Brown|    -1|              2|       2010|     40|       IT|\n",
      "+-----------+------+------+--------+------+---------------+-----------+-------+---------+\n",
      "\n",
      "+-----------+------+------+--------+------+---------------+-----------+-------+---------+\n",
      "|emp_dept_id|emp_id|gender|    name|salary|superior_emp_id|year_joined|dept_id|dept_name|\n",
      "+-----------+------+------+--------+------+---------------+-----------+-------+---------+\n",
      "|         10|     1|     M|   Smith|  3000|             -1|       2018|     10|  Finance|\n",
      "|         20|     2|     M|    Rose|  4000|              1|       2010|     20|Marketing|\n",
      "|         10|     4|     F|   Jones|  2000|              2|       2005|     10|  Finance|\n",
      "|         10|     3|     M|Williams|  1000|              1|       2010|     10|  Finance|\n",
      "|         40|     5|      |   Brown|    -1|              2|       2010|     40|       IT|\n",
      "+-----------+------+------+--------+------+---------------+-----------+-------+---------+\n",
      "\n"
     ]
    }
   ],
   "source": [
    "df_emp.join(\n",
    "    df_dept, \n",
    "    df_emp['emp_dept_id'] == df_dept['dept_id'], \n",
    "    how=\"inner\"\n",
    ").show()\n",
    "df_emp.join(df_dept, df_emp['emp_dept_id'] == df_dept['dept_id']).show()"
   ]
  },
  {
   "cell_type": "markdown",
   "id": "154f72a3-6a63-4ec2-a4bb-81a8989f6a07",
   "metadata": {},
   "source": [
    "- The employee that belongs to inexistent department with id 50 is dropped\n",
    "- The Sales department that has no employees asociated is dropped"
   ]
  },
  {
   "cell_type": "markdown",
   "id": "d51172a5-7a61-4f0c-bcf3-889044cceac8",
   "metadata": {},
   "source": [
    "### Full Outer Join\n",
    "\n",
    "Outer a.k.a full, fullouter join returns all rows from both Spark DataFrame, where join expression doesn’t match it returns null on respective record columns."
   ]
  },
  {
   "cell_type": "code",
   "execution_count": 47,
   "id": "129a4cfe-8690-4b0c-8e80-9c71061c63cf",
   "metadata": {},
   "outputs": [
    {
     "name": "stdout",
     "output_type": "stream",
     "text": [
      "+-----------+------+------+--------+------+---------------+-----------+-------+---------+\n",
      "|emp_dept_id|emp_id|gender|    name|salary|superior_emp_id|year_joined|dept_id|dept_name|\n",
      "+-----------+------+------+--------+------+---------------+-----------+-------+---------+\n",
      "|         10|     1|     M|   Smith|  3000|             -1|       2018|     10|  Finance|\n",
      "|         10|     4|     F|   Jones|  2000|              2|       2005|     10|  Finance|\n",
      "|         10|     3|     M|Williams|  1000|              1|       2010|     10|  Finance|\n",
      "|         20|     2|     M|    Rose|  4000|              1|       2010|     20|Marketing|\n",
      "|       null|  null|  null|    null|  null|           null|       null|     30|    Sales|\n",
      "|         40|     5|      |   Brown|    -1|              2|       2010|     40|       IT|\n",
      "|         50|     6|      |   Brown|    -1|              2|       2010|   null|     null|\n",
      "+-----------+------+------+--------+------+---------------+-----------+-------+---------+\n",
      "\n",
      "+-----------+------+------+--------+------+---------------+-----------+-------+---------+\n",
      "|emp_dept_id|emp_id|gender|    name|salary|superior_emp_id|year_joined|dept_id|dept_name|\n",
      "+-----------+------+------+--------+------+---------------+-----------+-------+---------+\n",
      "|         10|     1|     M|   Smith|  3000|             -1|       2018|     10|  Finance|\n",
      "|         10|     4|     F|   Jones|  2000|              2|       2005|     10|  Finance|\n",
      "|         10|     3|     M|Williams|  1000|              1|       2010|     10|  Finance|\n",
      "|         20|     2|     M|    Rose|  4000|              1|       2010|     20|Marketing|\n",
      "|       null|  null|  null|    null|  null|           null|       null|     30|    Sales|\n",
      "|         40|     5|      |   Brown|    -1|              2|       2010|     40|       IT|\n",
      "|         50|     6|      |   Brown|    -1|              2|       2010|   null|     null|\n",
      "+-----------+------+------+--------+------+---------------+-----------+-------+---------+\n",
      "\n",
      "+-----------+------+------+--------+------+---------------+-----------+-------+---------+\n",
      "|emp_dept_id|emp_id|gender|    name|salary|superior_emp_id|year_joined|dept_id|dept_name|\n",
      "+-----------+------+------+--------+------+---------------+-----------+-------+---------+\n",
      "|         10|     1|     M|   Smith|  3000|             -1|       2018|     10|  Finance|\n",
      "|         10|     4|     F|   Jones|  2000|              2|       2005|     10|  Finance|\n",
      "|         10|     3|     M|Williams|  1000|              1|       2010|     10|  Finance|\n",
      "|         20|     2|     M|    Rose|  4000|              1|       2010|     20|Marketing|\n",
      "|       null|  null|  null|    null|  null|           null|       null|     30|    Sales|\n",
      "|         40|     5|      |   Brown|    -1|              2|       2010|     40|       IT|\n",
      "|         50|     6|      |   Brown|    -1|              2|       2010|   null|     null|\n",
      "+-----------+------+------+--------+------+---------------+-----------+-------+---------+\n",
      "\n"
     ]
    }
   ],
   "source": [
    "df_emp.join(df_dept, df_emp['emp_dept_id'] == df_dept['dept_id'], how=\"outer\").show()\n",
    "df_emp.join(df_dept, df_emp['emp_dept_id'] == df_dept['dept_id'], how=\"fullouter\").show()\n",
    "df_emp.join(df_dept, df_emp['emp_dept_id'] == df_dept['dept_id'], how=\"full\").show()"
   ]
  },
  {
   "cell_type": "markdown",
   "id": "bf5848c1-d807-475b-a96e-d37d460031a2",
   "metadata": {},
   "source": [
    "- There is no department with id 50 hence the values for the department are null\n",
    "- There are no employees in the Sales department hence the employee values are null"
   ]
  },
  {
   "cell_type": "markdown",
   "id": "97f5335d-b732-4ce7-9e64-e3a825ba6cc5",
   "metadata": {},
   "source": [
    "### Left Join\n",
    "\n",
    "Left a.k.a Left Outer join returns all rows from the left DataFrame/Dataset regardless of match found on the right dataset when join expression doesn’t match, it assigns null for that record and drops records from right where match not found."
   ]
  },
  {
   "cell_type": "code",
   "execution_count": 48,
   "id": "c7215ac3-e9a7-483e-a32c-fc10fb51c2a8",
   "metadata": {},
   "outputs": [
    {
     "name": "stdout",
     "output_type": "stream",
     "text": [
      "+-----------+------+------+--------+------+---------------+-----------+-------+---------+\n",
      "|emp_dept_id|emp_id|gender|    name|salary|superior_emp_id|year_joined|dept_id|dept_name|\n",
      "+-----------+------+------+--------+------+---------------+-----------+-------+---------+\n",
      "|         10|     1|     M|   Smith|  3000|             -1|       2018|     10|  Finance|\n",
      "|         20|     2|     M|    Rose|  4000|              1|       2010|     20|Marketing|\n",
      "|         10|     4|     F|   Jones|  2000|              2|       2005|     10|  Finance|\n",
      "|         10|     3|     M|Williams|  1000|              1|       2010|     10|  Finance|\n",
      "|         50|     6|      |   Brown|    -1|              2|       2010|   null|     null|\n",
      "|         40|     5|      |   Brown|    -1|              2|       2010|     40|       IT|\n",
      "+-----------+------+------+--------+------+---------------+-----------+-------+---------+\n",
      "\n"
     ]
    }
   ],
   "source": [
    "df_emp.join(df_dept, df_emp[\"emp_dept_id\"] == df_dept[\"dept_id\"], \"left\").show()"
   ]
  },
  {
   "cell_type": "markdown",
   "id": "327fe8a8-84ca-4ccc-9b7c-59eef5bfb81c",
   "metadata": {},
   "source": [
    "- There is no department with id 50 hence the values for the department are null\n",
    "- There are no employees in the Sales department hence no row is shown"
   ]
  },
  {
   "cell_type": "markdown",
   "id": "41ffa2d4-963d-4701-87d9-f1700bff149e",
   "metadata": {},
   "source": [
    "### Right Join\n",
    "\n",
    "Right a.k.a Right Outer join is opposite to left join, here it returns all rows from the right DataFrame/Dataset regardless of match found on the left dataset, when join expression doesn’t match, it assigns null for that record and drops records from left where match not found."
   ]
  },
  {
   "cell_type": "code",
   "execution_count": 50,
   "id": "fa185ac6-3135-4b1c-88dd-483243a3f548",
   "metadata": {},
   "outputs": [
    {
     "name": "stdout",
     "output_type": "stream",
     "text": [
      "+-----------+------+------+--------+------+---------------+-----------+-------+---------+\n",
      "|emp_dept_id|emp_id|gender|    name|salary|superior_emp_id|year_joined|dept_id|dept_name|\n",
      "+-----------+------+------+--------+------+---------------+-----------+-------+---------+\n",
      "|         10|     3|     M|Williams|  1000|              1|       2010|     10|  Finance|\n",
      "|         10|     4|     F|   Jones|  2000|              2|       2005|     10|  Finance|\n",
      "|         10|     1|     M|   Smith|  3000|             -1|       2018|     10|  Finance|\n",
      "|         20|     2|     M|    Rose|  4000|              1|       2010|     20|Marketing|\n",
      "|       null|  null|  null|    null|  null|           null|       null|     30|    Sales|\n",
      "|         40|     5|      |   Brown|    -1|              2|       2010|     40|       IT|\n",
      "+-----------+------+------+--------+------+---------------+-----------+-------+---------+\n",
      "\n",
      "+-------+---------+-----------+------+------+--------+------+---------------+-----------+\n",
      "|dept_id|dept_name|emp_dept_id|emp_id|gender|    name|salary|superior_emp_id|year_joined|\n",
      "+-------+---------+-----------+------+------+--------+------+---------------+-----------+\n",
      "|     10|  Finance|         10|     3|     M|Williams|  1000|              1|       2010|\n",
      "|     10|  Finance|         10|     4|     F|   Jones|  2000|              2|       2005|\n",
      "|     10|  Finance|         10|     1|     M|   Smith|  3000|             -1|       2018|\n",
      "|     20|Marketing|         20|     2|     M|    Rose|  4000|              1|       2010|\n",
      "|     30|    Sales|       null|  null|  null|    null|  null|           null|       null|\n",
      "|     40|       IT|         40|     5|      |   Brown|    -1|              2|       2010|\n",
      "+-------+---------+-----------+------+------+--------+------+---------------+-----------+\n",
      "\n"
     ]
    }
   ],
   "source": [
    "df_emp.join(df_dept, df_emp[\"emp_dept_id\"] == df_dept[\"dept_id\"], \"right\").show()\n",
    "df_dept.join(df_emp, df_emp[\"emp_dept_id\"] == df_dept[\"dept_id\"], \"left\").show()"
   ]
  },
  {
   "cell_type": "markdown",
   "id": "e89fcaf6-0350-40ff-8a62-92514160ccbc",
   "metadata": {},
   "source": [
    "- There is no department with id 50 hence no row is shown\n",
    "- There are no employees in the Sales department hence the values of the employee columns are null"
   ]
  },
  {
   "cell_type": "markdown",
   "id": "7f215108-ed56-446f-816e-dc6c8c1962c4",
   "metadata": {},
   "source": [
    "### CrossJoin\n",
    "\n",
    "This join combines each row of the first table with each row of the second table. For example, we have `m` rows in one table and `n` rows in another, this gives us `m * n` rows in the resulting table. \n",
    "\n",
    "`Note`: A table of 1000 customers combined with a table of 1000 products would produce 1,000,000 records! Try to avoid this with large tables in production."
   ]
  },
  {
   "cell_type": "code",
   "execution_count": 51,
   "id": "ac1a776b-66e7-4cd2-91c3-330e524be475",
   "metadata": {},
   "outputs": [
    {
     "name": "stdout",
     "output_type": "stream",
     "text": [
      "+-----------+------+------+--------+------+---------------+-----------+-------+---------+\n",
      "|emp_dept_id|emp_id|gender|    name|salary|superior_emp_id|year_joined|dept_id|dept_name|\n",
      "+-----------+------+------+--------+------+---------------+-----------+-------+---------+\n",
      "|         10|     1|     M|   Smith|  3000|             -1|       2018|     10|  Finance|\n",
      "|         10|     1|     M|   Smith|  3000|             -1|       2018|     20|Marketing|\n",
      "|         10|     1|     M|   Smith|  3000|             -1|       2018|     30|    Sales|\n",
      "|         10|     1|     M|   Smith|  3000|             -1|       2018|     40|       IT|\n",
      "|         20|     2|     M|    Rose|  4000|              1|       2010|     10|  Finance|\n",
      "|         20|     2|     M|    Rose|  4000|              1|       2010|     20|Marketing|\n",
      "|         20|     2|     M|    Rose|  4000|              1|       2010|     30|    Sales|\n",
      "|         20|     2|     M|    Rose|  4000|              1|       2010|     40|       IT|\n",
      "|         10|     4|     F|   Jones|  2000|              2|       2005|     10|  Finance|\n",
      "|         10|     4|     F|   Jones|  2000|              2|       2005|     20|Marketing|\n",
      "|         10|     4|     F|   Jones|  2000|              2|       2005|     30|    Sales|\n",
      "|         10|     4|     F|   Jones|  2000|              2|       2005|     40|       IT|\n",
      "|         10|     3|     M|Williams|  1000|              1|       2010|     10|  Finance|\n",
      "|         10|     3|     M|Williams|  1000|              1|       2010|     20|Marketing|\n",
      "|         10|     3|     M|Williams|  1000|              1|       2010|     30|    Sales|\n",
      "|         10|     3|     M|Williams|  1000|              1|       2010|     40|       IT|\n",
      "|         50|     6|      |   Brown|    -1|              2|       2010|     10|  Finance|\n",
      "|         50|     6|      |   Brown|    -1|              2|       2010|     20|Marketing|\n",
      "|         50|     6|      |   Brown|    -1|              2|       2010|     30|    Sales|\n",
      "|         50|     6|      |   Brown|    -1|              2|       2010|     40|       IT|\n",
      "+-----------+------+------+--------+------+---------------+-----------+-------+---------+\n",
      "only showing top 20 rows\n",
      "\n"
     ]
    }
   ],
   "source": [
    "df_emp.crossJoin(df_dept).show()"
   ]
  },
  {
   "cell_type": "code",
   "execution_count": null,
   "id": "025efc67-f06a-4e4c-9647-595b2cadacee",
   "metadata": {},
   "outputs": [],
   "source": []
  },
  {
   "cell_type": "code",
   "execution_count": null,
   "id": "ecc341a4-21db-4027-9e59-ea0cfcef64db",
   "metadata": {},
   "outputs": [],
   "source": []
  },
  {
   "cell_type": "markdown",
   "id": "b87ba738-e14e-4720-87d2-856aac5e86c7",
   "metadata": {},
   "source": [
    "## 5. User Defined Functions (UDFs)\n",
    "User Defined Functions (UDFs) in Spark allow users to define their own transformations using Python or other programming languages, and then apply those functions on a Spark DataFrame. This can be very powerful when you need to make specific transformations to your data that aren't easily achieved using Spark's built-in functions.\n",
    "\n",
    "When a UDF is defined, under the hood, Spark serializes the function using Py4J, transfers it over to the executor nodes, and deserializes it. This allows the UDF to be executed on rows of the DataFrame in parallel. However, it's worth noting that because UDFs involve serialization and data transfer between Python and JVM, they can be considerably slower than using native Spark functions.\n",
    "\n",
    "Here's how you can define and use a UDF in Spark with Python (PySpark):"
   ]
  },
  {
   "cell_type": "code",
   "execution_count": 106,
   "id": "de3e9331-bbaf-4b02-a8e1-cd4dfa1c3956",
   "metadata": {},
   "outputs": [],
   "source": [
    "from pyspark.sql.functions import udf\n",
    "from pyspark.sql.types import StructType, StructField, StringType, LongType, ArrayType\n",
    "\n",
    "def person(name, surname):\n",
    "    return {\n",
    "        \"_id\": \"\",\n",
    "        \"age\": 15,\n",
    "        \"name\": f'{name} {surname}',\n",
    "        \"details\": {\n",
    "            \"phone_no\": 10,\n",
    "            \"dni\": 10,\n",
    "            \"pets\": [\"dog\", \"cat\", \"lion\"]\n",
    "        }\n",
    "    }\n",
    "\n",
    "schema = StructType(\n",
    "    [\n",
    "        StructField(\"_id\", StringType(), True),\n",
    "        StructField(\"age\", LongType(), True),\n",
    "        StructField(\"name\", StringType(), True),\n",
    "        StructField(\"details\", \n",
    "            StructType(\n",
    "                [\n",
    "                    StructField(\"phone_no\", LongType(), True),\n",
    "                    StructField(\"dni\", LongType(), True),\n",
    "                    StructField(\"pets\", ArrayType(StringType()), True),\n",
    "                ]\n",
    "            ), True\n",
    "        )\n",
    "    ]\n",
    ")\n",
    "\n",
    "person_udf = udf(person, schema)"
   ]
  },
  {
   "cell_type": "markdown",
   "id": "81ec4ca0-0a35-4b8f-8b26-66e275fa5113",
   "metadata": {},
   "source": [
    "#### DataFrame Mode"
   ]
  },
  {
   "cell_type": "code",
   "execution_count": 103,
   "id": "21748df2-e3b7-4b85-a8c0-11482755d846",
   "metadata": {
    "tags": []
   },
   "outputs": [
    {
     "name": "stdout",
     "output_type": "stream",
     "text": [
      "root\n",
      " |-- _id: string (nullable = true)\n",
      " |-- age: long (nullable = true)\n",
      " |-- email: string (nullable = true)\n",
      " |-- grade: double (nullable = true)\n",
      " |-- name: string (nullable = true)\n",
      " |-- surname: string (nullable = true)\n",
      "\n"
     ]
    }
   ],
   "source": [
    "df.printSchema()"
   ]
  },
  {
   "cell_type": "code",
   "execution_count": null,
   "id": "728274ab-bb70-410c-8c11-70d8e517c411",
   "metadata": {},
   "outputs": [],
   "source": [
    "df.withColumn('person', person_udf('name')).select('person').show(truncate=False)"
   ]
  },
  {
   "cell_type": "code",
   "execution_count": 107,
   "id": "fa4e8935-46b0-4c6e-ada3-0ddb0f257a85",
   "metadata": {},
   "outputs": [
    {
     "name": "stdout",
     "output_type": "stream",
     "text": [
      "+-------------------------------------------------------------+\n",
      "|person                                                       |\n",
      "+-------------------------------------------------------------+\n",
      "|{, 15, Valeria Sebastian Garcia, {10, 10, [dog, cat, lion]}} |\n",
      "|{, 15, Emma Sanchez Abascal, {10, 10, [dog, cat, lion]}}     |\n",
      "|{, 15, Agustin Sarabia Lopez, {10, 10, [dog, cat, lion]}}    |\n",
      "|{, 15, Martina Corominas Sarabia, {10, 10, [dog, cat, lion]}}|\n",
      "|{, 15, David Miranda Grande, {10, 10, [dog, cat, lion]}}     |\n",
      "|{, 15, Laia Lopez Bernal, {10, 10, [dog, cat, lion]}}        |\n",
      "|{, 15, Marcos Garcia Aznar, {10, 10, [dog, cat, lion]}}      |\n",
      "|{, 15, Judith Garcia Cruz, {10, 10, [dog, cat, lion]}}       |\n",
      "|{, 15, Iker Seco Coronado, {10, 10, [dog, cat, lion]}}       |\n",
      "|{, 15, Pablo Lopez Sastre, {10, 10, [dog, cat, lion]}}       |\n",
      "|{, 15, Marcos Sarabia Gisbert, {10, 10, [dog, cat, lion]}}   |\n",
      "|{, 15, Oriol Blanes Miranda, {10, 10, [dog, cat, lion]}}     |\n",
      "|{, 15, Marcos Cuenca Lopez, {10, 10, [dog, cat, lion]}}      |\n",
      "|{, 15, Sandra Sastre Corominas, {10, 10, [dog, cat, lion]}}  |\n",
      "|{, 15, Lucia Agudo Lopez, {10, 10, [dog, cat, lion]}}        |\n",
      "|{, 15, Marcos Garcia Sanchez, {10, 10, [dog, cat, lion]}}    |\n",
      "|{, 15, Emma Cruz Antunez, {10, 10, [dog, cat, lion]}}        |\n",
      "|{, 15, Pedro Santander Pascual, {10, 10, [dog, cat, lion]}}  |\n",
      "|{, 15, Santiago Aznar Pascual, {10, 10, [dog, cat, lion]}}   |\n",
      "|{, 15, Juan Parada Pascual, {10, 10, [dog, cat, lion]}}      |\n",
      "+-------------------------------------------------------------+\n",
      "only showing top 20 rows\n",
      "\n"
     ]
    }
   ],
   "source": [
    "df.withColumn('person', person_udf('name', 'surname')).select('person').show(truncate=False)"
   ]
  },
  {
   "cell_type": "markdown",
   "id": "ee880086-337e-474e-9874-634c61600498",
   "metadata": {},
   "source": [
    "#### SQL Mode"
   ]
  },
  {
   "cell_type": "code",
   "execution_count": 91,
   "id": "ba634cfd-db1f-45fc-83b1-55910742e9c5",
   "metadata": {},
   "outputs": [
    {
     "name": "stderr",
     "output_type": "stream",
     "text": [
      "23/09/15 15:32:34 WARN SimpleFunctionRegistry: The function person_udf replaced a previously registered function.\n"
     ]
    },
    {
     "data": {
      "text/plain": [
       "<function __main__.person(name)>"
      ]
     },
     "execution_count": 91,
     "metadata": {},
     "output_type": "execute_result"
    }
   ],
   "source": [
    "spark.udf.register(\"person_udf\", person, schema)"
   ]
  },
  {
   "cell_type": "code",
   "execution_count": 92,
   "id": "a4295e24-302e-4a6b-8549-509ae73a0f10",
   "metadata": {
    "tags": []
   },
   "outputs": [],
   "source": [
    "new_df = spark.sql(\"\"\"\n",
    "SELECT \n",
    "    name,\n",
    "    person_udf(name) as person\n",
    "FROM\n",
    "    students\n",
    "\"\"\")"
   ]
  },
  {
   "cell_type": "code",
   "execution_count": 93,
   "id": "72888750-2100-4248-b6a3-049dbda5e6f1",
   "metadata": {
    "tags": []
   },
   "outputs": [],
   "source": [
    "new_df.createOrReplaceTempView('temp')"
   ]
  },
  {
   "cell_type": "code",
   "execution_count": 94,
   "id": "629e1d4a-c0a9-4217-9438-e2e200a58284",
   "metadata": {
    "tags": []
   },
   "outputs": [
    {
     "name": "stdout",
     "output_type": "stream",
     "text": [
      "root\n",
      " |-- name: string (nullable = true)\n",
      " |-- person: struct (nullable = true)\n",
      " |    |-- _id: string (nullable = true)\n",
      " |    |-- age: long (nullable = true)\n",
      " |    |-- name: string (nullable = true)\n",
      " |    |-- details: struct (nullable = true)\n",
      " |    |    |-- phone_no: long (nullable = true)\n",
      " |    |    |-- dni: long (nullable = true)\n",
      " |    |    |-- pets: array (nullable = true)\n",
      " |    |    |    |-- element: string (containsNull = true)\n",
      "\n"
     ]
    }
   ],
   "source": [
    "new_df.printSchema()"
   ]
  },
  {
   "cell_type": "code",
   "execution_count": 98,
   "id": "2c191f71-29bb-46b0-8990-f150bfba3afc",
   "metadata": {
    "tags": []
   },
   "outputs": [
    {
     "name": "stdout",
     "output_type": "stream",
     "text": [
      "+--------+----------------------+\n",
      "|name    |person.details.pets[0]|\n",
      "+--------+----------------------+\n",
      "|Valeria |dog                   |\n",
      "|Emma    |dog                   |\n",
      "|Agustin |dog                   |\n",
      "|Martina |dog                   |\n",
      "|David   |dog                   |\n",
      "|Laia    |dog                   |\n",
      "|Marcos  |dog                   |\n",
      "|Judith  |dog                   |\n",
      "|Iker    |dog                   |\n",
      "|Pablo   |dog                   |\n",
      "|Marcos  |dog                   |\n",
      "|Oriol   |dog                   |\n",
      "|Marcos  |dog                   |\n",
      "|Sandra  |dog                   |\n",
      "|Lucia   |dog                   |\n",
      "|Marcos  |dog                   |\n",
      "|Emma    |dog                   |\n",
      "|Pedro   |dog                   |\n",
      "|Santiago|dog                   |\n",
      "|Juan    |dog                   |\n",
      "+--------+----------------------+\n",
      "only showing top 20 rows\n",
      "\n"
     ]
    }
   ],
   "source": [
    "spark.sql(\"\"\"\n",
    "SELECT \n",
    "    name,\n",
    "    person.details.pets[0]\n",
    "FROM\n",
    "    temp\n",
    "\"\"\").show(truncate=False)"
   ]
  },
  {
   "cell_type": "code",
   "execution_count": 72,
   "id": "4c23dac3-fae7-4e70-af68-89b08b2d78d2",
   "metadata": {
    "tags": []
   },
   "outputs": [],
   "source": [
    "from pyspark.sql.types import StructType\n",
    "\n",
    "def count_chars_and_capitalize(s):\n",
    "    return {\n",
    "        'num_chars': len(s),\n",
    "        'all_caps': s.upper()\n",
    "    }\n",
    "\n",
    "schema = StructType(\n",
    "    [\n",
    "        StructField(\"num_chars\", IntegerType(), True),\n",
    "        StructField(\"all_caps\", StringType(), True),\n",
    "    ]\n",
    ")\n",
    "\n",
    "count_chars_and_capitalize_udf = udf(count_chars_and_capitalize, schema)"
   ]
  },
  {
   "cell_type": "code",
   "execution_count": 73,
   "id": "201ed41d-6e1e-4e55-9363-9358dbe79db1",
   "metadata": {
    "tags": []
   },
   "outputs": [
    {
     "name": "stdout",
     "output_type": "stream",
     "text": [
      "+--------+----------------------+\n",
      "|name    |num_chars_and_all_caps|\n",
      "+--------+----------------------+\n",
      "|Valeria |{7, VALERIA}          |\n",
      "|Emma    |{4, EMMA}             |\n",
      "|Agustin |{7, AGUSTIN}          |\n",
      "|Martina |{7, MARTINA}          |\n",
      "|David   |{5, DAVID}            |\n",
      "|Laia    |{4, LAIA}             |\n",
      "|Marcos  |{6, MARCOS}           |\n",
      "|Judith  |{6, JUDITH}           |\n",
      "|Iker    |{4, IKER}             |\n",
      "|Pablo   |{5, PABLO}            |\n",
      "|Marcos  |{6, MARCOS}           |\n",
      "|Oriol   |{5, ORIOL}            |\n",
      "|Marcos  |{6, MARCOS}           |\n",
      "|Sandra  |{6, SANDRA}           |\n",
      "|Lucia   |{5, LUCIA}            |\n",
      "|Marcos  |{6, MARCOS}           |\n",
      "|Emma    |{4, EMMA}             |\n",
      "|Pedro   |{5, PEDRO}            |\n",
      "|Santiago|{8, SANTIAGO}         |\n",
      "|Juan    |{4, JUAN}             |\n",
      "+--------+----------------------+\n",
      "only showing top 20 rows\n",
      "\n"
     ]
    }
   ],
   "source": [
    "from pyspark.sql.functions import col\n",
    "\n",
    "df.withColumn('num_chars_and_all_caps', count_chars_and_capitalize_udf(col('name'))).select('name', 'num_chars_and_all_caps').show(truncate=False)"
   ]
  }
 ],
 "metadata": {
  "kernelspec": {
   "display_name": "Python 3",
   "language": "python",
   "name": "python3"
  },
  "language_info": {
   "codemirror_mode": {
    "name": "ipython",
    "version": 3
   },
   "file_extension": ".py",
   "mimetype": "text/x-python",
   "name": "python",
   "nbconvert_exporter": "python",
   "pygments_lexer": "ipython3",
   "version": "3.6.13"
  }
 },
 "nbformat": 4,
 "nbformat_minor": 5
}
