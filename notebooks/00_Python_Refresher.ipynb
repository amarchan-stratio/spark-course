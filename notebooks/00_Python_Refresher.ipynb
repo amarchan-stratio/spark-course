{
 "cells": [
  {
   "cell_type": "markdown",
   "metadata": {},
   "source": [
    "# Python Refresher"
   ]
  },
  {
   "cell_type": "markdown",
   "metadata": {
    "tags": []
   },
   "source": [
    "### 1. Basic Python Syntax"
   ]
  },
  {
   "cell_type": "markdown",
   "metadata": {},
   "source": [
    "#### Comments\n",
    "In Python, comments are written using the `#` symbol. Comments are ignored by the Python interpreter and are useful for adding explanations or notes to the code."
   ]
  },
  {
   "cell_type": "code",
   "execution_count": null,
   "metadata": {},
   "outputs": [],
   "source": [
    "# This is a single-line comment\n",
    "print(\"Hello, World!\")  # This is an inline comment"
   ]
  },
  {
   "cell_type": "markdown",
   "metadata": {},
   "source": [
    "#### Variables\n",
    "Variables are used to store data values. In Python, you don't need to declare the data type of a variable explicitly."
   ]
  },
  {
   "cell_type": "code",
   "execution_count": null,
   "metadata": {},
   "outputs": [],
   "source": [
    "x = 5          # integer\n",
    "y = 3.14       # float\n",
    "name = \"John\"  # string\n",
    "b = True       # boolean"
   ]
  },
  {
   "cell_type": "markdown",
   "metadata": {},
   "source": [
    "#### Data Types\n",
    "Python has several built-in data types like integers, floats, strings, and booleans."
   ]
  },
  {
   "cell_type": "code",
   "execution_count": null,
   "metadata": {},
   "outputs": [],
   "source": [
    "type(x)  # Output: <class 'int'>"
   ]
  },
  {
   "cell_type": "code",
   "execution_count": null,
   "metadata": {},
   "outputs": [],
   "source": [
    "type(y)  # Output: <class 'float'>"
   ]
  },
  {
   "cell_type": "code",
   "execution_count": null,
   "metadata": {},
   "outputs": [],
   "source": [
    "type(b)  # Output: <class 'bool'>"
   ]
  },
  {
   "cell_type": "markdown",
   "metadata": {},
   "source": [
    "#### Print Function\n",
    "The `print()` function is used to display outputs."
   ]
  },
  {
   "cell_type": "code",
   "execution_count": null,
   "metadata": {},
   "outputs": [],
   "source": [
    "print(\"The value of x is:\", x)"
   ]
  },
  {
   "cell_type": "markdown",
   "metadata": {},
   "source": [
    "#### String Formatting\n",
    "In Python there are 3 ways of formatting Strings depending on the Python version you are using:"
   ]
  },
  {
   "cell_type": "code",
   "execution_count": null,
   "metadata": {},
   "outputs": [],
   "source": [
    "print('My name is %s and I am %d years old' % (name, x)) # Old Python 2 way\n",
    "print('My name is {} and I am {} years old'.format(name, x)) # New Python 3 way\n",
    "print(f'My name is {name} and I am {x} years old') # Latest Python 3.6+ way"
   ]
  },
  {
   "cell_type": "markdown",
   "metadata": {},
   "source": [
    "`Note`: The last one is called \"f-string\" and allows you to embedded Python expressions inside string constants. Is the one we will use."
   ]
  },
  {
   "cell_type": "markdown",
   "metadata": {},
   "source": [
    "#### Indentation\n",
    "Python relies on indentation (whitespace) to define code blocks. This means that the amount of whitespace before a line of code is important."
   ]
  },
  {
   "cell_type": "code",
   "execution_count": null,
   "metadata": {},
   "outputs": [],
   "source": [
    "if x > 3:\n",
    "    print(\"x is greater than 3\")\n",
    "  print(\"x is greater than 3\") # Error due to identation"
   ]
  },
  {
   "cell_type": "code",
   "execution_count": null,
   "metadata": {
    "scrolled": true,
    "tags": []
   },
   "outputs": [],
   "source": [
    "if x > 3:\n",
    "    print(\"x is greater than 3\")\n",
    "    print(\"x is greater than 3\")"
   ]
  },
  {
   "cell_type": "markdown",
   "metadata": {},
   "source": [
    "### 2. Data Structures"
   ]
  },
  {
   "cell_type": "markdown",
   "metadata": {},
   "source": [
    "#### Lists\n",
    "A list is an ordered collection of items that can be of any type, even mixed types."
   ]
  },
  {
   "cell_type": "code",
   "execution_count": null,
   "metadata": {},
   "outputs": [],
   "source": [
    "fruits = [\"apple\", \"banana\", \"cherry\", 100]\n",
    "print(fruits[0])  # Output: apple\n",
    "\n",
    "# Add an item to the list\n",
    "fruits.append(\"orange\")\n",
    "print(fruits)"
   ]
  },
  {
   "cell_type": "markdown",
   "metadata": {},
   "source": [
    "#### Dictionaries\n",
    "A dictionary is an unordered collection of data in a `key: value` pair form."
   ]
  },
  {
   "cell_type": "code",
   "execution_count": null,
   "metadata": {},
   "outputs": [],
   "source": [
    "person = {\n",
    "    \"name\": \"John\",\n",
    "    \"age\": 30\n",
    "}\n",
    "print(person[\"name\"])  # Output: John"
   ]
  },
  {
   "cell_type": "markdown",
   "metadata": {},
   "source": [
    "#### Sets\n",
    "A set is an unordered collection of unique items."
   ]
  },
  {
   "cell_type": "code",
   "execution_count": null,
   "metadata": {},
   "outputs": [],
   "source": [
    "fruits_set = {\"apple\", \"banana\", \"cherry\"}\n",
    "print(fruits_set)\n",
    "fruits_set.add(\"orange\")\n",
    "print(fruits_set)\n",
    "fruits_set.add(\"orange\")\n",
    "print(fruits_set)"
   ]
  },
  {
   "cell_type": "markdown",
   "metadata": {},
   "source": [
    "#### Tuples\n",
    "A tuple is an ordered, immutable collection of items."
   ]
  },
  {
   "cell_type": "code",
   "execution_count": null,
   "metadata": {},
   "outputs": [],
   "source": [
    "colors = (\"red\", \"green\", \"blue\")\n",
    "print(colors[1])  # Output: green"
   ]
  },
  {
   "cell_type": "code",
   "execution_count": null,
   "metadata": {},
   "outputs": [],
   "source": [
    "colors[0] = \"yellow\" # Error due to immutability of tuples"
   ]
  },
  {
   "cell_type": "markdown",
   "metadata": {},
   "source": [
    "### 3. List Comprehensions"
   ]
  },
  {
   "cell_type": "markdown",
   "metadata": {},
   "source": [
    "List comprehensions provide a concise way to create lists."
   ]
  },
  {
   "cell_type": "code",
   "execution_count": null,
   "metadata": {},
   "outputs": [],
   "source": [
    "squared_numbers = [x**2 for x in range(10)]\n",
    "print(squared_numbers)"
   ]
  },
  {
   "cell_type": "markdown",
   "metadata": {},
   "source": [
    "The previous code is the same as the follwoing, but more concise."
   ]
  },
  {
   "cell_type": "code",
   "execution_count": null,
   "metadata": {},
   "outputs": [],
   "source": [
    "squared_numbers = []\n",
    "for x in range(10):\n",
    "    squared_numbers.append(x**2)\n",
    "print(squared_numbers)"
   ]
  },
  {
   "cell_type": "markdown",
   "metadata": {},
   "source": [
    "You can also add conditionals to list comprehensions as follows:"
   ]
  },
  {
   "cell_type": "code",
   "execution_count": null,
   "metadata": {},
   "outputs": [],
   "source": [
    "even_numbers = [x for x in range(10) if x % 2 == 0]\n",
    "print(even_numbers)"
   ]
  },
  {
   "cell_type": "markdown",
   "metadata": {},
   "source": [
    "The previous code is analogous to:"
   ]
  },
  {
   "cell_type": "code",
   "execution_count": null,
   "metadata": {},
   "outputs": [],
   "source": [
    "even_numbers = []\n",
    "for x in range(10):\n",
    "    if x % 2 == 0:\n",
    "        even_numbers.append(x)\n",
    "print(even_numbers)"
   ]
  },
  {
   "cell_type": "markdown",
   "metadata": {},
   "source": [
    "### 4. Lambda Functions\n",
    "Lambda functions are small, anonymous functions. Commonly used to transform elements in a list, set, etc."
   ]
  },
  {
   "cell_type": "code",
   "execution_count": null,
   "metadata": {},
   "outputs": [],
   "source": [
    "lambda_double = lambda x: x * 2 # This is the same as:\n",
    "def function_double(x):\n",
    "    return x * 2\n",
    "print(lambda_double(5))\n",
    "print(function_double(5))\n",
    "\n",
    "# Using with map()\n",
    "nums = [x for x in range(11)]\n",
    "squared_nums = list(map(lambda x: x**2, nums))\n",
    "print(squared_nums)"
   ]
  },
  {
   "cell_type": "markdown",
   "metadata": {},
   "source": [
    "### 5. Modules and Packages\n",
    "Modules in Python are simply Python files with the .py extension, which implement a set of functions. A package is a way of collecting related modules together within a single directory hierarchy."
   ]
  },
  {
   "cell_type": "code",
   "execution_count": null,
   "metadata": {},
   "outputs": [],
   "source": [
    "import math\n",
    "print(math.sqrt(16))  # Output: 4.0\n",
    "\n",
    "from math import sqrt\n",
    "print(sqrt(25))  # Output: 5.0\n",
    "\n",
    "import math as m\n",
    "print(m.pow(2, 5))"
   ]
  },
  {
   "cell_type": "markdown",
   "metadata": {},
   "source": [
    "## EXERCISES"
   ]
  },
  {
   "cell_type": "markdown",
   "metadata": {},
   "source": [
    "#### **Exercise 1**:\n",
    "\n",
    "Write a Python program that defines three variables: an integer named `year`, a float named `rating`, and a string named `movie_title`. Print a statement in the form: \"The movie '{movie_title}' released in {year} has a rating of {rating}.\""
   ]
  },
  {
   "cell_type": "code",
   "execution_count": null,
   "metadata": {},
   "outputs": [],
   "source": [
    "# ---- INSERT CODE HERE ----"
   ]
  },
  {
   "cell_type": "markdown",
   "metadata": {},
   "source": [
    "**Solution**:"
   ]
  },
  {
   "cell_type": "code",
   "execution_count": null,
   "metadata": {
    "jupyter": {
     "source_hidden": true
    },
    "tags": []
   },
   "outputs": [],
   "source": [
    "year = 2022\n",
    "rating = 7.8\n",
    "movie_title = \"The Great Adventure\"\n",
    "print(f\"The movie '{movie_title}' released in {year} has a rating of {rating}.\")"
   ]
  },
  {
   "cell_type": "markdown",
   "metadata": {},
   "source": [
    "#### **Exercise 2**:\n",
    "\n",
    "Given a list of 5 fruits and a dictionary where each key is a fruit from the list, and the value is a tuple containing the color and price of the fruit. Without modifying the original code include the fruit `grape` with a color of `purple` and a price of `0.7`.\n",
    "\n",
    "Then, iterate the list of fruits and print the statement: \"The fruit {name} with color {color} costs {price}€.\""
   ]
  },
  {
   "cell_type": "code",
   "execution_count": null,
   "metadata": {},
   "outputs": [],
   "source": [
    "fruits = ['apple', 'banana', 'cherry', 'orange']\n",
    "fruit_info = {\n",
    "    'apple': ('red', 0.5),\n",
    "    'banana': ('yellow', 0.3),\n",
    "    'cherry': ('red', 0.2),\n",
    "    'orange': ('orange', 0.6)\n",
    "}\n",
    "\n",
    "# ---- INSERT CODE HERE ----"
   ]
  },
  {
   "cell_type": "markdown",
   "metadata": {},
   "source": [
    "**Solution**:"
   ]
  },
  {
   "cell_type": "code",
   "execution_count": null,
   "metadata": {
    "jupyter": {
     "source_hidden": true
    },
    "tags": []
   },
   "outputs": [],
   "source": [
    "fruits = ['apple', 'banana', 'cherry', 'orange']\n",
    "fruit_info = {\n",
    "    'apple': ('red', 0.5),\n",
    "    'banana': ('yellow', 0.3),\n",
    "    'cherry': ('red', 0.2),\n",
    "    'orange': ('orange', 0.6)\n",
    "}\n",
    "\n",
    "fruits.append('grape')\n",
    "fruit_info['grape'] = ('purple', 0.7)\n",
    "\n",
    "for fruit in fruits:\n",
    "    color, price = fruit_info[fruit]\n",
    "    print(f'The fruit {fruit} with color {color} costs {price}€.')"
   ]
  },
  {
   "cell_type": "markdown",
   "metadata": {},
   "source": [
    "#### **Exercise 3**:\n",
    "\n",
    "Given a string, use list comprehension to create a list that contains only the vowels from that string."
   ]
  },
  {
   "cell_type": "code",
   "execution_count": null,
   "metadata": {},
   "outputs": [],
   "source": [
    "text = \"Python is such a cool and easy programming language!!!\"\n",
    "\n",
    "# ---- INSERT CODE HERE ----"
   ]
  },
  {
   "cell_type": "markdown",
   "metadata": {},
   "source": [
    "**Solution**:"
   ]
  },
  {
   "cell_type": "code",
   "execution_count": null,
   "metadata": {
    "jupyter": {
     "source_hidden": true
    },
    "tags": []
   },
   "outputs": [],
   "source": [
    "text = \"Python is such a cool and easy programming language!!!\"\n",
    "vowels = [char for char in text if char.lower() in 'aeiou']\n",
    "print(vowels)"
   ]
  },
  {
   "cell_type": "markdown",
   "metadata": {},
   "source": [
    "#### **Exercise 4**:\n",
    "\n",
    "Given a list of numbers, use a lambda function to create a new list that contains each number plus 5."
   ]
  },
  {
   "cell_type": "code",
   "execution_count": null,
   "metadata": {},
   "outputs": [],
   "source": [
    "numbers = [1, 2, 3, 4, 5]\n",
    "\n",
    "# ---- INSERT CODE HERE ----"
   ]
  },
  {
   "cell_type": "markdown",
   "metadata": {},
   "source": [
    "**Solution**:"
   ]
  },
  {
   "cell_type": "code",
   "execution_count": null,
   "metadata": {
    "jupyter": {
     "source_hidden": true
    },
    "tags": []
   },
   "outputs": [],
   "source": [
    "numbers = [1, 2, 3, 4, 5]\n",
    "numbers_plus_five = list(map(lambda x: x + 5, numbers))\n",
    "print(numbers_plus_five)"
   ]
  },
  {
   "cell_type": "markdown",
   "metadata": {},
   "source": [
    "#### **Continue practicing...**\n",
    "\n",
    "If you'd like more practice with Python, I recommend checking out [HackerRank](https://www.hackerrank.com/domains/python). Earning the 5-star Python badge there helped me a lot! Also follow [me](https://www.hackerrank.com/a_marchan) there if you want 😃"
   ]
  }
 ],
 "metadata": {
  "kernelspec": {
   "display_name": "Python 3 (ipykernel)",
   "language": "python",
   "name": "python3"
  },
  "language_info": {
   "codemirror_mode": {
    "name": "ipython",
    "version": 3
   },
   "file_extension": ".py",
   "mimetype": "text/x-python",
   "name": "python",
   "nbconvert_exporter": "python",
   "pygments_lexer": "ipython3",
   "version": "3.8.8"
  },
  "toc-autonumbering": false,
  "toc-showcode": false,
  "toc-showmarkdowntxt": false
 },
 "nbformat": 4,
 "nbformat_minor": 4
}
